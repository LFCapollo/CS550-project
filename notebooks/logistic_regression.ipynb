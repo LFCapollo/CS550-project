{
 "cells": [
  {
   "cell_type": "code",
   "execution_count": 1,
   "metadata": {},
   "outputs": [],
   "source": [
    "import numpy as np\n",
    "import pandas as pd\n",
    "import cv2 \n",
    "import os \n",
    "import tensorflow as tf\n",
    "from PIL import Image"
   ]
  },
  {
   "cell_type": "code",
   "execution_count": 2,
   "metadata": {},
   "outputs": [],
   "source": [
    "(x_train, y_train), (x_test, y_test) = tf.keras.datasets.cifar10.load_data()"
   ]
  },
  {
   "cell_type": "code",
   "execution_count": 3,
   "metadata": {},
   "outputs": [
    {
     "data": {
      "text/plain": [
       "(array([[[[ 59,  62,  63],\n",
       "          [ 43,  46,  45],\n",
       "          [ 50,  48,  43],\n",
       "          ...,\n",
       "          [158, 132, 108],\n",
       "          [152, 125, 102],\n",
       "          [148, 124, 103]],\n",
       " \n",
       "         [[ 16,  20,  20],\n",
       "          [  0,   0,   0],\n",
       "          [ 18,   8,   0],\n",
       "          ...,\n",
       "          [123,  88,  55],\n",
       "          [119,  83,  50],\n",
       "          [122,  87,  57]],\n",
       " \n",
       "         [[ 25,  24,  21],\n",
       "          [ 16,   7,   0],\n",
       "          [ 49,  27,   8],\n",
       "          ...,\n",
       "          [118,  84,  50],\n",
       "          [120,  84,  50],\n",
       "          [109,  73,  42]],\n",
       " \n",
       "         ...,\n",
       " \n",
       "         [[208, 170,  96],\n",
       "          [201, 153,  34],\n",
       "          [198, 161,  26],\n",
       "          ...,\n",
       "          [160, 133,  70],\n",
       "          [ 56,  31,   7],\n",
       "          [ 53,  34,  20]],\n",
       " \n",
       "         [[180, 139,  96],\n",
       "          [173, 123,  42],\n",
       "          [186, 144,  30],\n",
       "          ...,\n",
       "          [184, 148,  94],\n",
       "          [ 97,  62,  34],\n",
       "          [ 83,  53,  34]],\n",
       " \n",
       "         [[177, 144, 116],\n",
       "          [168, 129,  94],\n",
       "          [179, 142,  87],\n",
       "          ...,\n",
       "          [216, 184, 140],\n",
       "          [151, 118,  84],\n",
       "          [123,  92,  72]]],\n",
       " \n",
       " \n",
       "        [[[154, 177, 187],\n",
       "          [126, 137, 136],\n",
       "          [105, 104,  95],\n",
       "          ...,\n",
       "          [ 91,  95,  71],\n",
       "          [ 87,  90,  71],\n",
       "          [ 79,  81,  70]],\n",
       " \n",
       "         [[140, 160, 169],\n",
       "          [145, 153, 154],\n",
       "          [125, 125, 118],\n",
       "          ...,\n",
       "          [ 96,  99,  78],\n",
       "          [ 77,  80,  62],\n",
       "          [ 71,  73,  61]],\n",
       " \n",
       "         [[140, 155, 164],\n",
       "          [139, 146, 149],\n",
       "          [115, 115, 112],\n",
       "          ...,\n",
       "          [ 79,  82,  64],\n",
       "          [ 68,  70,  55],\n",
       "          [ 67,  69,  55]],\n",
       " \n",
       "         ...,\n",
       " \n",
       "         [[175, 167, 166],\n",
       "          [156, 154, 160],\n",
       "          [154, 160, 170],\n",
       "          ...,\n",
       "          [ 42,  34,  36],\n",
       "          [ 61,  53,  57],\n",
       "          [ 93,  83,  91]],\n",
       " \n",
       "         [[165, 154, 128],\n",
       "          [156, 152, 130],\n",
       "          [159, 161, 142],\n",
       "          ...,\n",
       "          [103,  93,  96],\n",
       "          [123, 114, 120],\n",
       "          [131, 121, 131]],\n",
       " \n",
       "         [[163, 148, 120],\n",
       "          [158, 148, 122],\n",
       "          [163, 156, 133],\n",
       "          ...,\n",
       "          [143, 133, 139],\n",
       "          [143, 134, 142],\n",
       "          [143, 133, 144]]],\n",
       " \n",
       " \n",
       "        [[[255, 255, 255],\n",
       "          [253, 253, 253],\n",
       "          [253, 253, 253],\n",
       "          ...,\n",
       "          [253, 253, 253],\n",
       "          [253, 253, 253],\n",
       "          [253, 253, 253]],\n",
       " \n",
       "         [[255, 255, 255],\n",
       "          [255, 255, 255],\n",
       "          [255, 255, 255],\n",
       "          ...,\n",
       "          [255, 255, 255],\n",
       "          [255, 255, 255],\n",
       "          [255, 255, 255]],\n",
       " \n",
       "         [[255, 255, 255],\n",
       "          [254, 254, 254],\n",
       "          [254, 254, 254],\n",
       "          ...,\n",
       "          [254, 254, 254],\n",
       "          [254, 254, 254],\n",
       "          [254, 254, 254]],\n",
       " \n",
       "         ...,\n",
       " \n",
       "         [[113, 120, 112],\n",
       "          [111, 118, 111],\n",
       "          [105, 112, 106],\n",
       "          ...,\n",
       "          [ 72,  81,  80],\n",
       "          [ 72,  80,  79],\n",
       "          [ 72,  80,  79]],\n",
       " \n",
       "         [[111, 118, 110],\n",
       "          [104, 111, 104],\n",
       "          [ 99, 106,  98],\n",
       "          ...,\n",
       "          [ 68,  75,  73],\n",
       "          [ 70,  76,  75],\n",
       "          [ 78,  84,  82]],\n",
       " \n",
       "         [[106, 113, 105],\n",
       "          [ 99, 106,  98],\n",
       "          [ 95, 102,  94],\n",
       "          ...,\n",
       "          [ 78,  85,  83],\n",
       "          [ 79,  85,  83],\n",
       "          [ 80,  86,  84]]],\n",
       " \n",
       " \n",
       "        ...,\n",
       " \n",
       " \n",
       "        [[[ 35, 178, 235],\n",
       "          [ 40, 176, 239],\n",
       "          [ 42, 176, 241],\n",
       "          ...,\n",
       "          [ 99, 177, 219],\n",
       "          [ 79, 147, 197],\n",
       "          [ 89, 148, 189]],\n",
       " \n",
       "         [[ 57, 182, 234],\n",
       "          [ 44, 184, 250],\n",
       "          [ 50, 183, 240],\n",
       "          ...,\n",
       "          [156, 182, 200],\n",
       "          [141, 177, 206],\n",
       "          [116, 149, 175]],\n",
       " \n",
       "         [[ 98, 197, 237],\n",
       "          [ 64, 189, 252],\n",
       "          [ 69, 192, 245],\n",
       "          ...,\n",
       "          [188, 195, 206],\n",
       "          [119, 135, 147],\n",
       "          [ 61,  79,  90]],\n",
       " \n",
       "         ...,\n",
       " \n",
       "         [[ 73,  79,  77],\n",
       "          [ 53,  63,  68],\n",
       "          [ 54,  68,  80],\n",
       "          ...,\n",
       "          [ 17,  40,  64],\n",
       "          [ 21,  36,  51],\n",
       "          [ 33,  48,  49]],\n",
       " \n",
       "         [[ 61,  68,  75],\n",
       "          [ 55,  70,  86],\n",
       "          [ 57,  79, 103],\n",
       "          ...,\n",
       "          [ 24,  48,  72],\n",
       "          [ 17,  35,  53],\n",
       "          [  7,  23,  32]],\n",
       " \n",
       "         [[ 44,  56,  73],\n",
       "          [ 46,  66,  88],\n",
       "          [ 49,  77, 105],\n",
       "          ...,\n",
       "          [ 27,  52,  77],\n",
       "          [ 21,  43,  66],\n",
       "          [ 12,  31,  50]]],\n",
       " \n",
       " \n",
       "        [[[189, 211, 240],\n",
       "          [186, 208, 236],\n",
       "          [185, 207, 235],\n",
       "          ...,\n",
       "          [175, 195, 224],\n",
       "          [172, 194, 222],\n",
       "          [169, 194, 220]],\n",
       " \n",
       "         [[194, 210, 239],\n",
       "          [191, 207, 236],\n",
       "          [190, 206, 235],\n",
       "          ...,\n",
       "          [173, 192, 220],\n",
       "          [171, 191, 218],\n",
       "          [167, 190, 216]],\n",
       " \n",
       "         [[208, 219, 244],\n",
       "          [205, 216, 240],\n",
       "          [204, 215, 239],\n",
       "          ...,\n",
       "          [175, 191, 217],\n",
       "          [172, 190, 216],\n",
       "          [169, 191, 215]],\n",
       " \n",
       "         ...,\n",
       " \n",
       "         [[207, 199, 181],\n",
       "          [203, 195, 175],\n",
       "          [203, 196, 173],\n",
       "          ...,\n",
       "          [135, 132, 127],\n",
       "          [162, 158, 150],\n",
       "          [168, 163, 151]],\n",
       " \n",
       "         [[198, 190, 170],\n",
       "          [189, 181, 159],\n",
       "          [180, 172, 147],\n",
       "          ...,\n",
       "          [178, 171, 160],\n",
       "          [175, 169, 156],\n",
       "          [175, 169, 154]],\n",
       " \n",
       "         [[198, 189, 173],\n",
       "          [189, 181, 162],\n",
       "          [178, 170, 149],\n",
       "          ...,\n",
       "          [195, 184, 169],\n",
       "          [196, 189, 171],\n",
       "          [195, 190, 171]]],\n",
       " \n",
       " \n",
       "        [[[229, 229, 239],\n",
       "          [236, 237, 247],\n",
       "          [234, 236, 247],\n",
       "          ...,\n",
       "          [217, 219, 233],\n",
       "          [221, 223, 234],\n",
       "          [222, 223, 233]],\n",
       " \n",
       "         [[222, 221, 229],\n",
       "          [239, 239, 249],\n",
       "          [233, 234, 246],\n",
       "          ...,\n",
       "          [223, 223, 236],\n",
       "          [227, 228, 238],\n",
       "          [210, 211, 220]],\n",
       " \n",
       "         [[213, 206, 211],\n",
       "          [234, 232, 239],\n",
       "          [231, 233, 244],\n",
       "          ...,\n",
       "          [220, 220, 232],\n",
       "          [220, 219, 232],\n",
       "          [202, 203, 215]],\n",
       " \n",
       "         ...,\n",
       " \n",
       "         [[150, 143, 135],\n",
       "          [140, 135, 127],\n",
       "          [132, 127, 120],\n",
       "          ...,\n",
       "          [224, 222, 218],\n",
       "          [230, 228, 225],\n",
       "          [241, 241, 238]],\n",
       " \n",
       "         [[137, 132, 126],\n",
       "          [130, 127, 120],\n",
       "          [125, 121, 115],\n",
       "          ...,\n",
       "          [181, 180, 178],\n",
       "          [202, 201, 198],\n",
       "          [212, 211, 207]],\n",
       " \n",
       "         [[122, 119, 114],\n",
       "          [118, 116, 110],\n",
       "          [120, 116, 111],\n",
       "          ...,\n",
       "          [179, 177, 173],\n",
       "          [164, 164, 162],\n",
       "          [163, 163, 161]]]], dtype=uint8), array([[6],\n",
       "        [9],\n",
       "        [9],\n",
       "        ...,\n",
       "        [9],\n",
       "        [1],\n",
       "        [1]], dtype=uint8))"
      ]
     },
     "execution_count": 3,
     "metadata": {},
     "output_type": "execute_result"
    }
   ],
   "source": [
    "x_train, y_train"
   ]
  },
  {
   "cell_type": "code",
   "execution_count": 4,
   "metadata": {},
   "outputs": [
    {
     "name": "stdout",
     "output_type": "stream",
     "text": [
      "(50000, 32, 32, 3) (10000, 32, 32, 3)\n"
     ]
    }
   ],
   "source": [
    "print(x_train.shape, x_test.shape)"
   ]
  },
  {
   "cell_type": "code",
   "execution_count": 5,
   "metadata": {},
   "outputs": [
    {
     "data": {
      "text/plain": [
       "array([[[ 59,  62,  63],\n",
       "        [ 43,  46,  45],\n",
       "        [ 50,  48,  43],\n",
       "        ...,\n",
       "        [158, 132, 108],\n",
       "        [152, 125, 102],\n",
       "        [148, 124, 103]],\n",
       "\n",
       "       [[ 16,  20,  20],\n",
       "        [  0,   0,   0],\n",
       "        [ 18,   8,   0],\n",
       "        ...,\n",
       "        [123,  88,  55],\n",
       "        [119,  83,  50],\n",
       "        [122,  87,  57]],\n",
       "\n",
       "       [[ 25,  24,  21],\n",
       "        [ 16,   7,   0],\n",
       "        [ 49,  27,   8],\n",
       "        ...,\n",
       "        [118,  84,  50],\n",
       "        [120,  84,  50],\n",
       "        [109,  73,  42]],\n",
       "\n",
       "       ...,\n",
       "\n",
       "       [[208, 170,  96],\n",
       "        [201, 153,  34],\n",
       "        [198, 161,  26],\n",
       "        ...,\n",
       "        [160, 133,  70],\n",
       "        [ 56,  31,   7],\n",
       "        [ 53,  34,  20]],\n",
       "\n",
       "       [[180, 139,  96],\n",
       "        [173, 123,  42],\n",
       "        [186, 144,  30],\n",
       "        ...,\n",
       "        [184, 148,  94],\n",
       "        [ 97,  62,  34],\n",
       "        [ 83,  53,  34]],\n",
       "\n",
       "       [[177, 144, 116],\n",
       "        [168, 129,  94],\n",
       "        [179, 142,  87],\n",
       "        ...,\n",
       "        [216, 184, 140],\n",
       "        [151, 118,  84],\n",
       "        [123,  92,  72]]], dtype=uint8)"
      ]
     },
     "execution_count": 5,
     "metadata": {},
     "output_type": "execute_result"
    }
   ],
   "source": [
    "x_train[0]"
   ]
  },
  {
   "cell_type": "code",
   "execution_count": 6,
   "metadata": {},
   "outputs": [],
   "source": [
    "#x_train = x_train.reshape(x_train.shape[0], 32, 32, 3).astype('float32')\n",
    "#x_test = x_test.reshape(x_test.shape[0], 32, 32, 3).astype('float32')\n",
    "\n",
    "# Normalizing the images to the range of [0., 1.]\n",
    "#x_train /= 255.\n",
    "#x_test /= 255.\n",
    "#print('Check that we have same data', x_train.shape, x_test.shape)"
   ]
  },
  {
   "cell_type": "code",
   "execution_count": 7,
   "metadata": {},
   "outputs": [
    {
     "name": "stdout",
     "output_type": "stream",
     "text": [
      "(50000, 3072)\n"
     ]
    }
   ],
   "source": [
    "#before we run our fit function we know that it requires 2 dimensional data, so we have to reshape our input\n",
    "\n",
    "X_train = x_train.reshape(len(x_train), -1)\n",
    "X_test = x_test.reshape(len(x_test), -1)\n",
    "\n",
    "#Optimization might require grayscale image\n",
    "\n",
    "print(X_train.shape)"
   ]
  },
  {
   "cell_type": "code",
   "execution_count": 8,
   "metadata": {},
   "outputs": [],
   "source": [
    "Y_train = np.ravel(y_train)\n",
    "Y_test = np.ravel(y_test)"
   ]
  },
  {
   "cell_type": "code",
   "execution_count": 9,
   "metadata": {},
   "outputs": [],
   "source": [
    "x_train_gray = []\n",
    "for i in x_train:\n",
    "  img = cv2.cvtColor(i, cv2.COLOR_BGR2GRAY)\n",
    "  x_train_gray.append(img)"
   ]
  },
  {
   "cell_type": "code",
   "execution_count": 10,
   "metadata": {},
   "outputs": [],
   "source": [
    "x_test_gray = []\n",
    "for i in x_test:\n",
    "  img = cv2.cvtColor(i, cv2.COLOR_BGR2GRAY)\n",
    "  x_test_gray.append(img)"
   ]
  },
  {
   "cell_type": "code",
   "execution_count": 11,
   "metadata": {},
   "outputs": [],
   "source": [
    "x_train_gray = np.array(x_train_gray)\n",
    "x_test_gray = np.array(x_test_gray)"
   ]
  },
  {
   "cell_type": "code",
   "execution_count": 12,
   "metadata": {},
   "outputs": [
    {
     "name": "stdout",
     "output_type": "stream",
     "text": [
      "(50000, 1024)\n"
     ]
    }
   ],
   "source": [
    "\n",
    "X_train_gray = x_train_gray.reshape(len(x_train_gray), -1)\n",
    "X_test_gray = x_test_gray.reshape(len(x_test_gray), -1)\n",
    "\n",
    "#Optimization might require grayscale image\n",
    "\n",
    "print(X_train_gray.shape)"
   ]
  },
  {
   "cell_type": "code",
   "execution_count": 13,
   "metadata": {},
   "outputs": [],
   "source": [
    "from sklearn.preprocessing import StandardScaler\n",
    "scaler = StandardScaler()\n",
    "scaler.fit(X_train_gray)\n",
    "\n",
    "X_train_gray= scaler.transform(X_train_gray)\n",
    "X_test_gray = scaler.transform(X_test_gray)"
   ]
  },
  {
   "cell_type": "code",
   "execution_count": 14,
   "metadata": {},
   "outputs": [],
   "source": [
    "from sklearn.linear_model import LogisticRegression"
   ]
  },
  {
   "cell_type": "code",
   "execution_count": 15,
   "metadata": {},
   "outputs": [],
   "source": [
    "logisticRegr = LogisticRegression(max_iter = 500, n_jobs = 3, multi_class = 'auto')"
   ]
  },
  {
   "cell_type": "code",
   "execution_count": 16,
   "metadata": {},
   "outputs": [
    {
     "name": "stderr",
     "output_type": "stream",
     "text": [
      "C:\\Users\\Nika\\Anaconda3\\lib\\site-packages\\sklearn\\linear_model\\logistic.py:432: FutureWarning: Default solver will be changed to 'lbfgs' in 0.22. Specify a solver to silence this warning.\n",
      "  FutureWarning)\n",
      "C:\\Users\\Nika\\Anaconda3\\lib\\site-packages\\sklearn\\linear_model\\logistic.py:1544: UserWarning: 'n_jobs' > 1 does not have any effect when 'solver' is set to 'liblinear'. Got 'n_jobs' = 3.\n",
      "  \" = {}.\".format(effective_n_jobs(self.n_jobs)))\n"
     ]
    },
    {
     "data": {
      "text/plain": [
       "LogisticRegression(C=1.0, class_weight=None, dual=False, fit_intercept=True,\n",
       "                   intercept_scaling=1, l1_ratio=None, max_iter=500,\n",
       "                   multi_class='auto', n_jobs=3, penalty='l2',\n",
       "                   random_state=None, solver='warn', tol=0.0001, verbose=0,\n",
       "                   warm_start=False)"
      ]
     },
     "execution_count": 16,
     "metadata": {},
     "output_type": "execute_result"
    }
   ],
   "source": [
    "logisticRegr.fit(X_train_gray, Y_train)"
   ]
  },
  {
   "cell_type": "code",
   "execution_count": 17,
   "metadata": {},
   "outputs": [],
   "source": [
    "predictions = logisticRegr.predict(X_test_gray)"
   ]
  },
  {
   "cell_type": "code",
   "execution_count": 18,
   "metadata": {},
   "outputs": [
    {
     "name": "stdout",
     "output_type": "stream",
     "text": [
      "0.278\n"
     ]
    }
   ],
   "source": [
    "score = logisticRegr.score(X_test_gray, Y_test)\n",
    "print(score)"
   ]
  },
  {
   "cell_type": "code",
   "execution_count": 19,
   "metadata": {},
   "outputs": [],
   "source": [
    "import seaborn as sns\n",
    "from sklearn import metrics"
   ]
  },
  {
   "cell_type": "code",
   "execution_count": 20,
   "metadata": {},
   "outputs": [],
   "source": [
    "cm = metrics.confusion_matrix(Y_test, predictions)"
   ]
  },
  {
   "cell_type": "code",
   "execution_count": 21,
   "metadata": {},
   "outputs": [
    {
     "data": {
      "image/png": "[encoded data removed]",
      "text/plain": [
       "<Figure size 648x648 with 2 Axes>"
      ]
     },
     "metadata": {
      "needs_background": "light"
     },
     "output_type": "display_data"
    }
   ],
   "source": [
    "import matplotlib.pyplot as plt\n",
    "plt.figure(figsize=(9,9))\n",
    "sns.heatmap(cm, annot=True, fmt=\".3f\", linewidths=.5, square = True, cmap = 'Blues_r');\n",
    "plt.ylabel('Actual label');\n",
    "plt.xlabel('Predicted label');\n",
    "all_sample_title = 'Accuracy Score: {0}'.format(score)\n",
    "plt.title(all_sample_title, size = 15);\n",
    "plt.show()"
   ]
  }
 ],
 "metadata": {
  "kernelspec": {
   "display_name": "Python 3",
   "language": "python",
   "name": "python3"
  },
  "language_info": {
   "codemirror_mode": {
    "name": "ipython",
    "version": 3
   },
   "file_extension": ".py",
   "mimetype": "text/x-python",
   "name": "python",
   "nbconvert_exporter": "python",
   "pygments_lexer": "ipython3",
   "version": "3.7.4"
  }
 },
 "nbformat": 4,
 "nbformat_minor": 2
}
