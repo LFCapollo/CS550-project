{
  "nbformat": 4,
  "nbformat_minor": 0,
  "metadata": {
    "colab": {
      "name": "logistic_regression_mnist.ipynb",
      "provenance": [],
      "collapsed_sections": []
    },
    "kernelspec": {
      "name": "python3",
      "display_name": "Python 3"
    }
  },
  "cells": [
    {
      "cell_type": "code",
      "metadata": {
        "id": "JdXyZai7hFv-",
        "colab_type": "code",
        "colab": {}
      },
      "source": [
        "import numpy as np\n",
        "import pandas as pd\n",
        "import cv2 \n",
        "import os \n",
        "import tensorflow as tf\n",
        "from PIL import Image"
      ],
      "execution_count": 0,
      "outputs": []
    },
    {
      "cell_type": "markdown",
      "metadata": {
        "id": "G2jCa9ceCYIh",
        "colab_type": "text"
      },
      "source": [
        "### load dataset"
      ]
    },
    {
      "cell_type": "code",
      "metadata": {
        "id": "41XEQZ0LhJpr",
        "colab_type": "code",
        "outputId": "68363696-8f67-45d9-e4ac-ea263ef21996",
        "colab": {
          "base_uri": "https://localhost:8080/",
          "height": 50
        }
      },
      "source": [
        "(x_train, y_train), (x_test, y_test) = tf.keras.datasets.mnist.load_data()"
      ],
      "execution_count": 2,
      "outputs": [
        {
          "output_type": "stream",
          "text": [
            "Downloading data from https://storage.googleapis.com/tensorflow/tf-keras-datasets/mnist.npz\n",
            "11493376/11490434 [==============================] - 0s 0us/step\n"
          ],
          "name": "stdout"
        }
      ]
    },
    {
      "cell_type": "markdown",
      "metadata": {
        "id": "nq64hyw6Cm5C",
        "colab_type": "text"
      },
      "source": [
        "### Training set contains 60000 28x28 images, test set contains 10000 28x28 images"
      ]
    },
    {
      "cell_type": "code",
      "metadata": {
        "id": "IE8PTf0KhRwx",
        "colab_type": "code",
        "outputId": "8eaa9eef-1221-4478-e290-f1e0dcef3cba",
        "colab": {
          "base_uri": "https://localhost:8080/",
          "height": 34
        }
      },
      "source": [
        "print(x_train.shape, x_test.shape)"
      ],
      "execution_count": 3,
      "outputs": [
        {
          "output_type": "stream",
          "text": [
            "(60000, 28, 28) (10000, 28, 28)\n"
          ],
          "name": "stdout"
        }
      ]
    },
    {
      "cell_type": "markdown",
      "metadata": {
        "id": "bD35Yy9RCzbt",
        "colab_type": "text"
      },
      "source": [
        "### Flattening image arrays 28x28 to 784"
      ]
    },
    {
      "cell_type": "code",
      "metadata": {
        "id": "FVZolK-qhw6I",
        "colab_type": "code",
        "colab": {}
      },
      "source": [
        "X_train = x_train.reshape(len(x_train), 784)\n",
        "X_test = x_test.reshape(len(x_test), 784)"
      ],
      "execution_count": 0,
      "outputs": []
    },
    {
      "cell_type": "code",
      "metadata": {
        "id": "ilsJKhROhr9a",
        "colab_type": "code",
        "colab": {}
      },
      "source": [
        "from sklearn.linear_model import LogisticRegression"
      ],
      "execution_count": 0,
      "outputs": []
    },
    {
      "cell_type": "markdown",
      "metadata": {
        "id": "FNad9imyC7jH",
        "colab_type": "text"
      },
      "source": [
        "### Define linear regression model"
      ]
    },
    {
      "cell_type": "code",
      "metadata": {
        "id": "eYTCGnRniVt8",
        "colab_type": "code",
        "colab": {}
      },
      "source": [
        "logisticRegr = LogisticRegression(max_iter = 500, n_jobs = 6, solver = 'lbfgs', multi_class = 'auto')"
      ],
      "execution_count": 0,
      "outputs": []
    },
    {
      "cell_type": "markdown",
      "metadata": {
        "id": "g1eHvOwZ0H7G",
        "colab_type": "text"
      },
      "source": [
        "### Cross Validation"
      ]
    },
    {
      "cell_type": "code",
      "metadata": {
        "id": "-s5Pddr-0Kwx",
        "colab_type": "code",
        "colab": {}
      },
      "source": [
        "from sklearn.model_selection import cross_val_score\n",
        "from sklearn.model_selection import ShuffleSplit"
      ],
      "execution_count": 0,
      "outputs": []
    },
    {
      "cell_type": "code",
      "metadata": {
        "id": "panRoiJk0MwD",
        "colab_type": "code",
        "colab": {
          "base_uri": "https://localhost:8080/",
          "height": 34
        },
        "outputId": "ccf7acfe-ade5-41bc-bcac-dfff8051149d"
      },
      "source": [
        "cv = ShuffleSplit(n_splits=5, test_size=0.25)\n",
        "scores = cross_val_score(logisticRegr, X_train, y_train, cv=cv)\n",
        "scores"
      ],
      "execution_count": 9,
      "outputs": [
        {
          "output_type": "execute_result",
          "data": {
            "text/plain": [
              "array([0.911     , 0.90806667, 0.91246667, 0.91066667, 0.91213333])"
            ]
          },
          "metadata": {
            "tags": []
          },
          "execution_count": 9
        }
      ]
    },
    {
      "cell_type": "code",
      "metadata": {
        "id": "qH6FfdRk0QB6",
        "colab_type": "code",
        "colab": {
          "base_uri": "https://localhost:8080/",
          "height": 34
        },
        "outputId": "4bba6983-24e0-4578-f2e9-744a2aec8518"
      },
      "source": [
        "print(f'mean: {scores.mean()}, Standard Deveation: {scores.std()}')"
      ],
      "execution_count": 10,
      "outputs": [
        {
          "output_type": "stream",
          "text": [
            "mean: 0.9108666666666666, Standard Deveation: 0.0015532045726318288\n"
          ],
          "name": "stdout"
        }
      ]
    },
    {
      "cell_type": "markdown",
      "metadata": {
        "id": "d7Kx1IGwC-ac",
        "colab_type": "text"
      },
      "source": [
        "### Fit training data"
      ]
    },
    {
      "cell_type": "code",
      "metadata": {
        "id": "DjAOvPFliYVn",
        "colab_type": "code",
        "outputId": "39091c00-226e-4848-f5d0-1ea171c74015",
        "colab": {
          "base_uri": "https://localhost:8080/",
          "height": 101
        }
      },
      "source": [
        "logisticRegr.fit(X_train, y_train)"
      ],
      "execution_count": 11,
      "outputs": [
        {
          "output_type": "execute_result",
          "data": {
            "text/plain": [
              "LogisticRegression(C=1.0, class_weight=None, dual=False, fit_intercept=True,\n",
              "                   intercept_scaling=1, l1_ratio=None, max_iter=500,\n",
              "                   multi_class='auto', n_jobs=6, penalty='l2',\n",
              "                   random_state=None, solver='lbfgs', tol=0.0001, verbose=0,\n",
              "                   warm_start=False)"
            ]
          },
          "metadata": {
            "tags": []
          },
          "execution_count": 11
        }
      ]
    },
    {
      "cell_type": "markdown",
      "metadata": {
        "id": "l-VuFCkUDEpP",
        "colab_type": "text"
      },
      "source": [
        "### Predict labels on testset"
      ]
    },
    {
      "cell_type": "code",
      "metadata": {
        "id": "Gv3OqEG3ieHG",
        "colab_type": "code",
        "colab": {}
      },
      "source": [
        "predictions = logisticRegr.predict(X_test)"
      ],
      "execution_count": 0,
      "outputs": []
    },
    {
      "cell_type": "code",
      "metadata": {
        "id": "NNR4gJFTif1q",
        "colab_type": "code",
        "outputId": "9b94874a-d502-4fb7-d95e-ad2e3984ecb4",
        "colab": {
          "base_uri": "https://localhost:8080/",
          "height": 34
        }
      },
      "source": [
        "score = logisticRegr.score(X_test, y_test)\n",
        "print(score)"
      ],
      "execution_count": 13,
      "outputs": [
        {
          "output_type": "stream",
          "text": [
            "0.9226\n"
          ],
          "name": "stdout"
        }
      ]
    },
    {
      "cell_type": "code",
      "metadata": {
        "id": "vOQ2pTO8dXqn",
        "colab_type": "code",
        "outputId": "1129bfee-eaf7-4cd4-89b0-1f30f8b3a8be",
        "colab": {
          "base_uri": "https://localhost:8080/",
          "height": 302
        }
      },
      "source": [
        "from sklearn.metrics import classification_report\n",
        "\n",
        "print(classification_report(y_test, predictions))"
      ],
      "execution_count": 14,
      "outputs": [
        {
          "output_type": "stream",
          "text": [
            "              precision    recall  f1-score   support\n",
            "\n",
            "           0       0.95      0.97      0.96       980\n",
            "           1       0.96      0.98      0.97      1135\n",
            "           2       0.93      0.89      0.91      1032\n",
            "           3       0.89      0.91      0.90      1010\n",
            "           4       0.93      0.93      0.93       982\n",
            "           5       0.91      0.86      0.88       892\n",
            "           6       0.94      0.95      0.95       958\n",
            "           7       0.93      0.92      0.92      1028\n",
            "           8       0.87      0.89      0.88       974\n",
            "           9       0.91      0.91      0.91      1009\n",
            "\n",
            "    accuracy                           0.92     10000\n",
            "   macro avg       0.92      0.92      0.92     10000\n",
            "weighted avg       0.92      0.92      0.92     10000\n",
            "\n"
          ],
          "name": "stdout"
        }
      ]
    },
    {
      "cell_type": "code",
      "metadata": {
        "id": "7oOXSrunilPm",
        "colab_type": "code",
        "outputId": "eeead93e-b799-4a4f-c1fc-3357d91d11f2",
        "colab": {
          "base_uri": "https://localhost:8080/",
          "height": 70
        }
      },
      "source": [
        "import seaborn as sns\n",
        "from sklearn import metrics"
      ],
      "execution_count": 15,
      "outputs": [
        {
          "output_type": "stream",
          "text": [
            "/usr/local/lib/python3.6/dist-packages/statsmodels/tools/_testing.py:19: FutureWarning: pandas.util.testing is deprecated. Use the functions in the public API at pandas.testing instead.\n",
            "  import pandas.util.testing as tm\n"
          ],
          "name": "stderr"
        }
      ]
    },
    {
      "cell_type": "markdown",
      "metadata": {
        "id": "RZkmMV-tDJkZ",
        "colab_type": "text"
      },
      "source": [
        "### Create confusion matrix and visualize"
      ]
    },
    {
      "cell_type": "code",
      "metadata": {
        "id": "Iv8j-rcCink9",
        "colab_type": "code",
        "colab": {}
      },
      "source": [
        "cm = metrics.confusion_matrix(y_test, predictions)"
      ],
      "execution_count": 0,
      "outputs": []
    },
    {
      "cell_type": "code",
      "metadata": {
        "id": "fSmodcpjipb5",
        "colab_type": "code",
        "outputId": "0f7c77d3-f1d5-4474-e089-58a8e58fcdb3",
        "colab": {
          "base_uri": "https://localhost:8080/",
          "height": 526
        }
      },
      "source": [
        "import matplotlib.pyplot as plt\n",
        "plt.figure(figsize=(9,9))\n",
        "sns.heatmap(cm, annot=True, fmt=\".3f\", linewidths=.5, square = True, cmap = 'Blues_r');\n",
        "plt.ylabel('Actual label');\n",
        "plt.xlabel('Predicted label');\n",
        "all_sample_title = 'Accuracy Score: {0}'.format(score)\n",
        "plt.title(all_sample_title, size = 15);\n",
        "plt.show()"
      ],
      "execution_count": 17,
      "outputs": [
        {
          "output_type": "display_data",
          "data": {
            "image/png": "[encoded data removed]",
            "text/plain": [
              "<Figure size 648x648 with 2 Axes>"
            ]
          },
          "metadata": {
            "tags": [],
            "needs_background": "light"
          }
        }
      ]
    }
  ]
}